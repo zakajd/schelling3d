{
 "cells": [
  {
   "cell_type": "code",
   "execution_count": 1,
   "metadata": {
    "ExecuteTime": {
     "end_time": "2020-12-14T17:37:34.688687Z",
     "start_time": "2020-12-14T17:37:34.683771Z"
    }
   },
   "outputs": [],
   "source": [
    "# import torch\n",
    "# k = torch.rand(1, 1, 5, 5, 5)\n",
    "# vox = torch.rand(1, 1, 20, 20, 20)\n",
    "# out = torch.nn.functional.conv3d(vox, k, padding=k.size(-1) // 2)\n",
    "# out.shape"
   ]
  },
  {
   "cell_type": "code",
   "execution_count": 2,
   "metadata": {
    "ExecuteTime": {
     "end_time": "2020-12-14T17:37:36.007663Z",
     "start_time": "2020-12-14T17:37:35.426059Z"
    }
   },
   "outputs": [
    {
     "data": {
      "text/html": [
       "<style>.container { width:95% !important; }</style>"
      ],
      "text/plain": [
       "<IPython.core.display.HTML object>"
      ]
     },
     "metadata": {},
     "output_type": "display_data"
    }
   ],
   "source": [
    "import numpy as np\n",
    "import matplotlib.pyplot as plt\n",
    "from mpl_toolkits.mplot3d import Axes3D # 3D visualization\n",
    "from tqdm.auto import tqdm\n",
    "\n",
    "# Wider cells\n",
    "from IPython.core.display import display, HTML\n",
    "display(HTML(\"<style>.container { width:95% !important; }</style>\"))\n",
    "\n",
    "# Make sure folder for images exist\n",
    "import os\n",
    "try:\n",
    "    os.mkdir('imgs')\n",
    "except FileExistsError as err:\n",
    "    pass\n",
    "\n",
    "# Jupyter magic\n",
    "%reload_ext autoreload\n",
    "%autoreload 2\n",
    "# %matplotlib inline"
   ]
  },
  {
   "cell_type": "markdown",
   "metadata": {},
   "source": [
    "# 2D Schelling model"
   ]
  },
  {
   "cell_type": "code",
   "execution_count": 2,
   "metadata": {
    "ExecuteTime": {
     "end_time": "2020-12-14T12:08:24.975007Z",
     "start_time": "2020-12-14T12:08:23.615946Z"
    }
   },
   "outputs": [],
   "source": [
    "from schelling import game_2d"
   ]
  },
  {
   "cell_type": "code",
   "execution_count": 5,
   "metadata": {
    "ExecuteTime": {
     "end_time": "2020-12-14T12:08:57.103278Z",
     "start_time": "2020-12-14T12:08:35.744051Z"
    }
   },
   "outputs": [
    {
     "data": {
      "application/vnd.jupyter.widget-view+json": {
       "model_id": "1771c36f50d44d0185db93f55767b58f",
       "version_major": 2,
       "version_minor": 0
      },
      "text/plain": [
       "HBox(children=(IntProgress(value=0, description='Number of neighbours=3', style=ProgressStyle(description_widt…"
      ]
     },
     "metadata": {},
     "output_type": "display_data"
    },
    {
     "name": "stdout",
     "output_type": "stream",
     "text": [
      "\r"
     ]
    }
   ],
   "source": [
    "N = 100\n",
    "C = 3\n",
    "game_length = 100\n",
    "R = [3/8, 1/2, 5/8]\n",
    "r = R[0]\n",
    "\n",
    "_ = game_2d(N, C, r, game_length, create_gif=True, device=\"cpu\")"
   ]
  },
  {
   "cell_type": "markdown",
   "metadata": {},
   "source": [
    "## T3.1\t9 gifs for 9 values of R"
   ]
  },
  {
   "cell_type": "code",
   "execution_count": null,
   "metadata": {
    "ExecuteTime": {
     "end_time": "2020-12-14T12:08:25.787812Z",
     "start_time": "2020-12-14T12:08:23.038Z"
    }
   },
   "outputs": [],
   "source": [
    "from schelling import game_2d\n",
    "%matplotlib inline\n",
    "# R = [0, 1/8, 1/4, 3/8, 1/2, 5/8, 3/4, 7/8, 1]\n",
    "R = [3/8, 1/2, 5/8]\n",
    "\n",
    "N = 50\n",
    "C = 2\n",
    "game_length = 10\n",
    "global_moved = []\n",
    "for r in R:\n",
    "    moved = game_2d(N, C, r, game_length, name=f'schelling_{int(r*8)}', figsize=(6, 6))\n",
    "    global_moved.append(moved)"
   ]
  },
  {
   "cell_type": "markdown",
   "metadata": {
    "ExecuteTime": {
     "end_time": "2020-12-05T10:36:15.215725Z",
     "start_time": "2020-12-05T10:36:14.568197Z"
    }
   },
   "source": [
    "# ![schelling_0](imgs/schelling_0.gif)\n",
    "# ![schelling_1](imgs/schelling_1.gif)\n",
    "# ![schelling_2](imgs/schelling_2.gif)\n",
    "![schelling_3](imgs/schelling_3.gif)\n",
    "![schelling_4](imgs/schelling_4.gif)\n",
    "![schelling_5](imgs/schelling_5.gif)\n",
    "# ![schelling_6](imgs/schelling_6.gif)\n",
    "# ![schelling_7](imgs/schelling_7.gif)\n",
    "# ![schelling_8](imgs/schelling_8.gif)"
   ]
  },
  {
   "cell_type": "markdown",
   "metadata": {},
   "source": [
    "#### 2D model with C=3"
   ]
  },
  {
   "cell_type": "code",
   "execution_count": null,
   "metadata": {
    "ExecuteTime": {
     "end_time": "2020-12-14T12:08:25.790673Z",
     "start_time": "2020-12-14T12:08:23.041Z"
    }
   },
   "outputs": [],
   "source": [
    "from schelling import game_2d\n",
    "%matplotlib inline\n",
    "R = [0, 1/8, 1/4, 3/8, 1/2, 5/8, 3/4, 7/8, 1]\n",
    "\n",
    "N = 100\n",
    "C = 3\n",
    "game_length = 100\n",
    "global_moved_3 = []\n",
    "for r in R:\n",
    "    moved = game_2d(N, C, r, game_length, name=f'schelling_{C}_{int(r*8)}', figsize=(10, 10))\n",
    "    global_moved_3.append(moved)"
   ]
  },
  {
   "cell_type": "code",
   "execution_count": null,
   "metadata": {
    "ExecuteTime": {
     "end_time": "2020-12-14T12:08:25.794683Z",
     "start_time": "2020-12-14T12:08:23.042Z"
    }
   },
   "outputs": [],
   "source": [
    "![schelling_2_1](imgs/schelling_3_2.gif)\n",
    "![schelling_2_1](imgs/schelling_3_3.gif)\n",
    "![schelling_2_1](imgs/schelling_3_4.gif)\n",
    "# ![schelling_2_1](imgs/schelling_3_5.gif)\n",
    "# ![schelling_2_1](imgs/schelling_3_6.gif)\n",
    "# ![schelling_2_1](imgs/schelling_3_7.gif)"
   ]
  },
  {
   "cell_type": "markdown",
   "metadata": {},
   "source": [
    "#### 2D model with C=10"
   ]
  },
  {
   "cell_type": "code",
   "execution_count": null,
   "metadata": {
    "ExecuteTime": {
     "end_time": "2020-12-14T12:08:25.814848Z",
     "start_time": "2020-12-14T12:08:23.046Z"
    }
   },
   "outputs": [],
   "source": [
    "N = 1000\n",
    "C = 10\n",
    "game_length = 250\n",
    "r = R[3]\n",
    "_ = game_2d(N, C, r, game_length, name=f'schelling_{C}_{int(r*8)}_big', figsize=(10, 10))"
   ]
  },
  {
   "cell_type": "markdown",
   "metadata": {},
   "source": [
    "![schelling_3_1](imgs/schelling_10_3.gif)\n",
    "![schelling_3_1_big](imgs/schelling_10_3_big.gif)"
   ]
  },
  {
   "cell_type": "markdown",
   "metadata": {},
   "source": [
    "## T3.2 Plot"
   ]
  },
  {
   "cell_type": "code",
   "execution_count": null,
   "metadata": {
    "ExecuteTime": {
     "end_time": "2020-12-14T12:08:25.823121Z",
     "start_time": "2020-12-14T12:08:23.049Z"
    }
   },
   "outputs": [],
   "source": [
    "fig, ax = plt.subplots(figsize=(14,11))\n",
    "# fig.figure(figsize=(14,11))\n",
    "for i, r in enumerate(R):\n",
    "    ax.plot(global_moved[i], label=f'R={int(r*8)}|8')\n",
    "    ax.tick_params(axis='both', which='major', labelsize=20)\n",
    "    ax.set_xlabel('iteration', fontsize=20)\n",
    "    ax.set_ylabel('# of moves', fontsize=20)\n",
    "    ax.legend(fontsize=20)\n",
    "# plt.plot(global_moved[0], label='r')"
   ]
  },
  {
   "cell_type": "code",
   "execution_count": null,
   "metadata": {
    "ExecuteTime": {
     "end_time": "2020-12-14T12:08:25.826517Z",
     "start_time": "2020-12-14T12:08:23.053Z"
    }
   },
   "outputs": [],
   "source": [
    "fig, ax = plt.subplots(figsize=(14,11))\n",
    "# fig.figure(figsize=(14,11))\n",
    "for i, r in enumerate(R):\n",
    "    ax.plot(global_moved_3[i], label=f'R={int(r*8)}|8')\n",
    "    ax.tick_params(axis='both', which='major', labelsize=20)\n",
    "    ax.set_xlabel('iteration', fontsize=20)\n",
    "    ax.set_ylabel('# of moves', fontsize=20)\n",
    "    ax.legend(fontsize=20)\n",
    "# plt.plot(global_moved[0], label='r')"
   ]
  },
  {
   "cell_type": "code",
   "execution_count": null,
   "metadata": {
    "ExecuteTime": {
     "end_time": "2020-12-14T12:08:25.842199Z",
     "start_time": "2020-12-14T12:08:23.056Z"
    }
   },
   "outputs": [],
   "source": [
    "fig, ax = plt.subplots(figsize=(14,11))\n",
    "for i, r in enumerate(R):\n",
    "    ax.plot(global_moved_10[i], label=f'R={int(r*8)}|8')\n",
    "    ax.tick_params(axis='both', which='major', labelsize=20)\n",
    "    ax.set_xlabel('iteration', fontsize=20)\n",
    "    ax.set_ylabel('# of moves', fontsize=20)\n",
    "    ax.legend(fontsize=20)\n",
    "# plt.plot(global_moved[0], label='r')"
   ]
  },
  {
   "cell_type": "code",
   "execution_count": null,
   "metadata": {
    "ExecuteTime": {
     "end_time": "2020-12-14T12:08:25.845350Z",
     "start_time": "2020-12-14T12:08:23.058Z"
    }
   },
   "outputs": [],
   "source": [
    "fig, ax = plt.subplots(figsize=(14,11))\n",
    "ax.plot(_, label=f'R={int(r*8)}|8')\n",
    "ax.tick_params(axis='both', which='major', labelsize=20)\n",
    "ax.set_xlabel('iteration', fontsize=20)\n",
    "ax.set_ylabel('# of moves', fontsize=20)\n",
    "ax.legend(fontsize=20)"
   ]
  },
  {
   "cell_type": "markdown",
   "metadata": {},
   "source": [
    "## T3.3 Bonus: 3D Schelling model"
   ]
  },
  {
   "cell_type": "markdown",
   "metadata": {},
   "source": [
    "### Check that everything works correctly\n",
    "Plot 3D cube and projections on each plane for one class (here I chosen to project class 1), so color defines total number of 'ones' in that plane cell"
   ]
  },
  {
   "cell_type": "code",
   "execution_count": 1,
   "metadata": {
    "ExecuteTime": {
     "end_time": "2020-12-14T17:38:50.567442Z",
     "start_time": "2020-12-14T17:38:47.983595Z"
    }
   },
   "outputs": [],
   "source": [
    "from tqdm.auto import tqdm\n",
    "from schelling_3d import init_map_3d, prepare_3d_plot, plot_3d, plot_projections\n",
    "\n",
    "# All possible r values for 3D case\n",
    "R_3d = [i / 27 for i in range(27)]"
   ]
  },
  {
   "cell_type": "code",
   "execution_count": 2,
   "metadata": {
    "ExecuteTime": {
     "end_time": "2020-12-14T17:38:51.389072Z",
     "start_time": "2020-12-14T17:38:51.027266Z"
    }
   },
   "outputs": [
    {
     "data": {
      "image/png": "[encoded data removed]",
      "text/plain": [
       "<Figure size 576x576 with 1 Axes>"
      ]
     },
     "metadata": {
      "needs_background": "light"
     },
     "output_type": "display_data"
    },
    {
     "data": {
      "image/png": "[encoded data removed]",
      "text/plain": [
       "<Figure size 1080x360 with 3 Axes>"
      ]
     },
     "metadata": {
      "needs_background": "light"
     },
     "output_type": "display_data"
    }
   ],
   "source": [
    "%matplotlib inline\n",
    "# %matplotlib notebook\n",
    "\n",
    "N = 15\n",
    "C = 2 # Number of different neighbourhoods\n",
    "r = R_3d[5]\n",
    "\n",
    "game_map = init_map_3d(N,C)\n",
    "x, y, z, c, proj_x, proj_y, proj_z = prepare_3d_plot(game_map, projections=True)\n",
    "\n",
    "# Plot 3D cube to check \n",
    "plot_3d(x, y, z, c, r, figsize=(8, 8))\n",
    "\n",
    "# If we increase N size of cube becomes to big to visialize it properly, \n",
    "# so projections are more reliable. Also notice, that in the beginnig cells are almost evenly distributed.\n",
    "# Plot projections\n",
    "plot_projections(proj_x, proj_y, proj_z)"
   ]
  },
  {
   "cell_type": "markdown",
   "metadata": {},
   "source": [
    "Now let's start the 3D game and see, how distrubutions are changing"
   ]
  },
  {
   "cell_type": "code",
   "execution_count": null,
   "metadata": {
    "ExecuteTime": {
     "start_time": "2020-12-14T17:38:53.040Z"
    }
   },
   "outputs": [
    {
     "data": {
      "application/vnd.jupyter.widget-view+json": {
       "model_id": "c6e76791a28f49faa481f4320b41d17e",
       "version_major": 2,
       "version_minor": 0
      },
      "text/plain": [
       "HBox(children=(IntProgress(value=0, description='Number of neighbours=4', max=80, style=ProgressStyle(descript…"
      ]
     },
     "metadata": {},
     "output_type": "display_data"
    }
   ],
   "source": [
    "from tqdm.auto import tqdm\n",
    "from schelling_3d import game_3d\n",
    "%matplotlib inline\n",
    "\n",
    "N = 15\n",
    "C = 2 # Number of different neighbourhoods\n",
    "game_length = 80\n",
    "projective=True\n",
    "\n",
    "r = R_3d[4]\n",
    "\n",
    "final_map, moved = game_3d(N, C, r, game_length, create_gif=True, proj=False, device=\"cpu\")"
   ]
  },
  {
   "cell_type": "markdown",
   "metadata": {},
   "source": [
    "Let's look at the number of moving cells"
   ]
  },
  {
   "cell_type": "code",
   "execution_count": null,
   "metadata": {
    "ExecuteTime": {
     "start_time": "2020-12-14T17:34:40.416Z"
    }
   },
   "outputs": [],
   "source": []
  },
  {
   "cell_type": "code",
   "execution_count": 13,
   "metadata": {
    "ExecuteTime": {
     "end_time": "2020-12-14T12:12:43.235755Z",
     "start_time": "2020-12-14T12:12:42.956742Z"
    }
   },
   "outputs": [
    {
     "data": {
      "image/png": "[encoded data removed]",
      "text/plain": [
       "<Figure size 432x288 with 1 Axes>"
      ]
     },
     "metadata": {
      "needs_background": "light"
     },
     "output_type": "display_data"
    }
   ],
   "source": [
    "fig, ax = plt.subplots()\n",
    "# fig.figure(figsize=(14,11))\n",
    "ax.plot(moved, label=f'R={int(r*27)}|27')\n",
    "ax.set_xlabel('iteration')\n",
    "ax.set_ylabel('# of moves')\n",
    "ax.legend()\n",
    "plt.savefig(f'imgs/{fname}.png')"
   ]
  },
  {
   "cell_type": "markdown",
   "metadata": {},
   "source": [
    "### Generate GIFs for different R values\n",
    "#### First: Find values of R, when something interesting happens."
   ]
  },
  {
   "cell_type": "code",
   "execution_count": 15,
   "metadata": {
    "ExecuteTime": {
     "end_time": "2020-12-14T12:13:22.182189Z",
     "start_time": "2020-12-14T12:13:22.146031Z"
    }
   },
   "outputs": [],
   "source": [
    "from tqdm.auto import tqdm\n",
    "from schelling_3d import game_3d\n",
    "%matplotlib inline\n",
    "R_3d = [i / 27 for i in range(27)]\n",
    "N = 10\n",
    "C = 2 # Number of different neighbourhoods\n",
    "game_length = 20\n",
    "projective=True"
   ]
  },
  {
   "cell_type": "code",
   "execution_count": null,
   "metadata": {
    "ExecuteTime": {
     "end_time": "2020-12-14T12:08:25.884329Z",
     "start_time": "2020-12-14T12:08:23.069Z"
    }
   },
   "outputs": [],
   "source": [
    "global_moved = []\n",
    "for r in R_3d:\n",
    "    fname=f'tmp/schelling_{projective}_{int(r*27)}_{N}_{game_length}'\n",
    "    _, moved = game_3d(N, C, r, game_length, name=fname, proj=projective, figsize=(6, 6), fps=8, verbouse=False)\n",
    "    global_moved.append(moved)"
   ]
  },
  {
   "cell_type": "code",
   "execution_count": null,
   "metadata": {
    "ExecuteTime": {
     "end_time": "2020-12-14T12:08:25.891188Z",
     "start_time": "2020-12-14T12:08:23.071Z"
    }
   },
   "outputs": [],
   "source": [
    "fig, ax = plt.subplots(figsize=(15, 15))\n",
    "# fig.figure(figsize=(14,11))\n",
    "for i, r in enumerate(R_3d):\n",
    "    ax.plot(global_moved[i], label=f'R={int(r*27)}|27')\n",
    "    ax.set_xlabel('iteration', fontsize=20)\n",
    "    ax.set_ylabel('# of moves')\n",
    "    ax.legend()\n",
    "# plt.plot(global_moved[0], label='r')"
   ]
  },
  {
   "cell_type": "markdown",
   "metadata": {},
   "source": [
    "#### Let's take $R = 15$ and look how far will it get"
   ]
  },
  {
   "cell_type": "code",
   "execution_count": null,
   "metadata": {
    "ExecuteTime": {
     "end_time": "2020-12-14T12:08:25.942009Z",
     "start_time": "2020-12-14T12:08:23.083Z"
    }
   },
   "outputs": [],
   "source": [
    "fig, ax = plt.subplots(figsize=(10, 10))\n",
    "ax.plot(moved_14[100:], label=f'R={int(r*8)}|8')\n",
    "ax.set_xlabel('iteration', fontsize=20)\n",
    "ax.set_ylabel('# of moves', fontsize=20)\n",
    "ax.legend(fontsize=20)\n",
    "plt.savefig(f'imgs/{fname}.png')"
   ]
  },
  {
   "cell_type": "code",
   "execution_count": null,
   "metadata": {},
   "outputs": [],
   "source": []
  }
 ],
 "metadata": {
  "kernelspec": {
   "display_name": "Python 3",
   "language": "python",
   "name": "python3"
  },
  "language_info": {
   "codemirror_mode": {
    "name": "ipython",
    "version": 3
   },
   "file_extension": ".py",
   "mimetype": "text/x-python",
   "name": "python",
   "nbconvert_exporter": "python",
   "pygments_lexer": "ipython3",
   "version": "3.7.5"
  }
 },
 "nbformat": 4,
 "nbformat_minor": 2
}
